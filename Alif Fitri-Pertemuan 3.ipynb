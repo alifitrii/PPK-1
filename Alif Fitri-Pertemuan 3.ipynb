{
 "cells": [
  {
   "cell_type": "code",
   "execution_count": null,
   "id": "9659861f",
   "metadata": {},
   "outputs": [],
   "source": [
    "Nama = Alif Fitri Auni Miftakhul Jannah\n",
    "NIM = 200601110097\n",
    "Praktikum Pemograman Komputer (F)"
   ]
  },
  {
   "cell_type": "code",
   "execution_count": null,
   "id": "574c6bd5",
   "metadata": {},
   "outputs": [],
   "source": [
    "Tipe Koleksi"
   ]
  },
  {
   "cell_type": "code",
   "execution_count": null,
   "id": "cfd65e60",
   "metadata": {},
   "outputs": [],
   "source": [
    "3.1 Tipe list\n",
    "List merupakan objek yang bersifat mutable atau nilainya dapat diubah. Objek list dibuat menggunakan tanda [ ]. Setiap objek atau elemen yang terdapat di dalam list harus dibatasi menggunakan tanda koma, tapi tidak harus sejenis. Artinya, bisa saja list berisi\n",
    "beberapa objek yang berasal dari tipe berlainan, misalnya str, int, dan sebagainya."
   ]
  },
  {
   "cell_type": "code",
   "execution_count": null,
   "id": "e4f28477",
   "metadata": {},
   "outputs": [],
   "source": [
    "Algorithm 3.1"
   ]
  },
  {
   "cell_type": "code",
   "execution_count": 1,
   "id": "ca14ae3b",
   "metadata": {},
   "outputs": [
    {
     "data": {
      "text/plain": [
       "[10, 8, 12, 6, 15]"
      ]
     },
     "execution_count": 1,
     "metadata": {},
     "output_type": "execute_result"
    }
   ],
   "source": [
    "list1 = [100, 200, 300, 400]\n",
    "list2 = [1, 'Pemrograman Komputer', 12000.00]\n",
    "list = [10, 8, 12, 6, 15]\n",
    "list"
   ]
  },
  {
   "cell_type": "code",
   "execution_count": 2,
   "id": "d7d20e3b",
   "metadata": {},
   "outputs": [
    {
     "data": {
      "text/plain": [
       "5"
      ]
     },
     "execution_count": 2,
     "metadata": {},
     "output_type": "execute_result"
    }
   ],
   "source": [
    "len(list) #Menghitung banyaknya elemen didalam list"
   ]
  },
  {
   "cell_type": "code",
   "execution_count": 3,
   "id": "5abbaea8",
   "metadata": {},
   "outputs": [
    {
     "data": {
      "text/plain": [
       "[10, 8, 12, 6, 15]"
      ]
     },
     "execution_count": 3,
     "metadata": {},
     "output_type": "execute_result"
    }
   ],
   "source": [
    "li = [10, 8, 12, 6, 15]\n",
    "li"
   ]
  },
  {
   "cell_type": "code",
   "execution_count": 4,
   "id": "be33fa2f",
   "metadata": {},
   "outputs": [
    {
     "data": {
      "text/plain": [
       "(10, 8, 12, 6, 15)"
      ]
     },
     "execution_count": 4,
     "metadata": {},
     "output_type": "execute_result"
    }
   ],
   "source": [
    "li[0], li[1], li[2], li[3], li[4]"
   ]
  },
  {
   "cell_type": "code",
   "execution_count": 5,
   "id": "94c78b37",
   "metadata": {},
   "outputs": [
    {
     "data": {
      "text/plain": [
       "(10, 8, 12, 6, 15)"
      ]
     },
     "execution_count": 5,
     "metadata": {},
     "output_type": "execute_result"
    }
   ],
   "source": [
    "li[-5], li[-4], li[-3], li[-2], li[-1]"
   ]
  },
  {
   "cell_type": "code",
   "execution_count": 6,
   "id": "87e69edc",
   "metadata": {},
   "outputs": [
    {
     "data": {
      "text/plain": [
       "[10, 8, 12, 6, 15, 20, 25]"
      ]
     },
     "execution_count": 6,
     "metadata": {},
     "output_type": "execute_result"
    }
   ],
   "source": [
    "li.append(20) #Menambahkan elemen dalam list\n",
    "li.append(25)\n",
    "li"
   ]
  },
  {
   "cell_type": "code",
   "execution_count": 8,
   "id": "170ee2c2",
   "metadata": {},
   "outputs": [
    {
     "data": {
      "text/plain": [
       "[10, 8, 12, 6, 15, 20, 25, 100, 200, 300, 100, 200, 300]"
      ]
     },
     "execution_count": 8,
     "metadata": {},
     "output_type": "execute_result"
    }
   ],
   "source": [
    "li.extend( [100 ,200 ,300 ] ) #Menambahkan elemen dalam sebuah list\n",
    "li"
   ]
  },
  {
   "cell_type": "code",
   "execution_count": 9,
   "id": "96efc144",
   "metadata": {},
   "outputs": [
    {
     "data": {
      "text/plain": [
       "[99, 77, 12, 6, 15, 20, 25, 100, 200, 300, 100, 200, 300]"
      ]
     },
     "execution_count": 9,
     "metadata": {},
     "output_type": "execute_result"
    }
   ],
   "source": [
    "li[0]=99\n",
    "li[1]=77\n",
    "li"
   ]
  },
  {
   "cell_type": "code",
   "execution_count": 10,
   "id": "5ea11be5",
   "metadata": {},
   "outputs": [
    {
     "data": {
      "text/plain": [
       "[77, 12, 6, 20, 25, 100, 200, 100, 200, 300]"
      ]
     },
     "execution_count": 10,
     "metadata": {},
     "output_type": "execute_result"
    }
   ],
   "source": [
    "li.remove(99) #Menghapus elemen di dalam list \n",
    "li.remove(300)\n",
    "li.remove(15)\n",
    "li"
   ]
  },
  {
   "cell_type": "code",
   "execution_count": 11,
   "id": "4ae54f62",
   "metadata": {},
   "outputs": [
    {
     "data": {
      "text/plain": [
       "[]"
      ]
     },
     "execution_count": 11,
     "metadata": {},
     "output_type": "execute_result"
    }
   ],
   "source": [
    "li.clear() #Menghapus semua elemen didalam list\n",
    "li"
   ]
  },
  {
   "cell_type": "code",
   "execution_count": null,
   "id": "569ff512",
   "metadata": {},
   "outputs": [],
   "source": [
    "3.2 Tipe Dictionary\n",
    "Dictionary (kamus) atau sering juga disebut tipe mapping merupakan objek yang berisi daftar pasangan kunci dan nilai (key-value pair). Pada struktur data list, elemen-elemen diindeks berdasarkan bilangan positif maupun negatif tergantung dari arah mana elemen-elemen tersebut akan diakses.Pada struktur dat dictionary, elemen-elemen akan diindeks ber\u0002dasarkan kuncinya. Objek yang dijadikan sebagai kunci dapat berasal dari\n",
    "tipe apa saja, tapi pada umumnya berupa string, atau paling tidak berupa bilangan. Berbeda dengan list, dictionary dibuat menggunakan { }. Setiap pasangan kunci dan nilai harus dipisahkan menggunakan tanda ( : )."
   ]
  },
  {
   "cell_type": "code",
   "execution_count": null,
   "id": "36bdffa0",
   "metadata": {},
   "outputs": [],
   "source": [
    "Algorithm 3.2"
   ]
  },
  {
   "cell_type": "code",
   "execution_count": 12,
   "id": "77fa3b4c",
   "metadata": {},
   "outputs": [
    {
     "data": {
      "text/plain": [
       "{'A': 4, 'B': 3, 'C': 2, 'D': 1, 'E': 0}"
      ]
     },
     "execution_count": 12,
     "metadata": {},
     "output_type": "execute_result"
    }
   ],
   "source": [
    "na={'A':4, 'B':3, 'C':2, 'D':1, 'E':0}\n",
    "na"
   ]
  },
  {
   "cell_type": "code",
   "execution_count": 13,
   "id": "5c6ae0be",
   "metadata": {},
   "outputs": [
    {
     "data": {
      "text/plain": [
       "dict_keys(['A', 'B', 'C', 'D', 'E'])"
      ]
     },
     "execution_count": 13,
     "metadata": {},
     "output_type": "execute_result"
    }
   ],
   "source": [
    "na.keys() #Menampilkan Kata Kunci (key) dalam Dictionary"
   ]
  },
  {
   "cell_type": "code",
   "execution_count": 14,
   "id": "2f80f91c",
   "metadata": {},
   "outputs": [
    {
     "data": {
      "text/plain": [
       "dict_values([4, 3, 2, 1, 0])"
      ]
     },
     "execution_count": 14,
     "metadata": {},
     "output_type": "execute_result"
    }
   ],
   "source": [
    "na.values() #Menampilkan Kata Value dalam Dictionary"
   ]
  },
  {
   "cell_type": "code",
   "execution_count": 15,
   "id": "5a0e660f",
   "metadata": {},
   "outputs": [
    {
     "data": {
      "text/plain": [
       "4"
      ]
     },
     "execution_count": 15,
     "metadata": {},
     "output_type": "execute_result"
    }
   ],
   "source": [
    "na['A']"
   ]
  },
  {
   "cell_type": "code",
   "execution_count": 16,
   "id": "3a23fe77",
   "metadata": {},
   "outputs": [
    {
     "data": {
      "text/plain": [
       "3"
      ]
     },
     "execution_count": 16,
     "metadata": {},
     "output_type": "execute_result"
    }
   ],
   "source": [
    "na['B']"
   ]
  },
  {
   "cell_type": "code",
   "execution_count": 17,
   "id": "20c5f30f",
   "metadata": {},
   "outputs": [
    {
     "data": {
      "text/plain": [
       "2"
      ]
     },
     "execution_count": 17,
     "metadata": {},
     "output_type": "execute_result"
    }
   ],
   "source": [
    "na['C']"
   ]
  },
  {
   "cell_type": "code",
   "execution_count": 18,
   "id": "0e3b7f28",
   "metadata": {},
   "outputs": [
    {
     "data": {
      "text/plain": [
       "'kucing'"
      ]
     },
     "execution_count": 18,
     "metadata": {},
     "output_type": "execute_result"
    }
   ],
   "source": [
    "kamus={'mouse':'tikus', 'cat':'kucing'}\n",
    "kamus['cat']"
   ]
  },
  {
   "cell_type": "code",
   "execution_count": 19,
   "id": "2ac550e0",
   "metadata": {},
   "outputs": [
    {
     "data": {
      "text/plain": [
       "dict_keys(['mouse', 'cat'])"
      ]
     },
     "execution_count": 19,
     "metadata": {},
     "output_type": "execute_result"
    }
   ],
   "source": [
    "kamus.keys()"
   ]
  },
  {
   "cell_type": "code",
   "execution_count": 20,
   "id": "bd035ae0",
   "metadata": {},
   "outputs": [
    {
     "data": {
      "text/plain": [
       "dict_values(['tikus', 'kucing'])"
      ]
     },
     "execution_count": 20,
     "metadata": {},
     "output_type": "execute_result"
    }
   ],
   "source": [
    "kamus.values()"
   ]
  },
  {
   "cell_type": "code",
   "execution_count": null,
   "id": "32b0c731",
   "metadata": {},
   "outputs": [],
   "source": [
    "3.3 Tipe Tuple\n",
    "Tuple adalah tipe koleksi yang mirip dengan list. Pebedaannya, tuple bersifat immutable atau elemen-elemennya tidak dapat diubah, baik nilai maupun jumlah elemennya. Ini berarti bahwa kita tidak dapat menambah, mengubah, atau menghapus elemen di dalam tuple. Dengan kata\n",
    "lain, tuple merupakan koleksi yang bersifat konstan. Tuple dibuat menggunakan tanda ( )."
   ]
  },
  {
   "cell_type": "code",
   "execution_count": null,
   "id": "3d3e4f80",
   "metadata": {},
   "outputs": [],
   "source": [
    "Algorithm 3.3"
   ]
  },
  {
   "cell_type": "code",
   "execution_count": 22,
   "id": "154bc492",
   "metadata": {},
   "outputs": [
    {
     "data": {
      "text/plain": [
       "10"
      ]
     },
     "execution_count": 22,
     "metadata": {},
     "output_type": "execute_result"
    }
   ],
   "source": [
    "t=(10,20,30)\n",
    "t[0]"
   ]
  },
  {
   "cell_type": "code",
   "execution_count": 23,
   "id": "086cfe20",
   "metadata": {},
   "outputs": [
    {
     "data": {
      "text/plain": [
       "20"
      ]
     },
     "execution_count": 23,
     "metadata": {},
     "output_type": "execute_result"
    }
   ],
   "source": [
    "t[1]"
   ]
  },
  {
   "cell_type": "code",
   "execution_count": 24,
   "id": "dcdc515b",
   "metadata": {},
   "outputs": [
    {
     "data": {
      "text/plain": [
       "30"
      ]
     },
     "execution_count": 24,
     "metadata": {},
     "output_type": "execute_result"
    }
   ],
   "source": [
    "t[2]"
   ]
  },
  {
   "cell_type": "code",
   "execution_count": 25,
   "id": "dfdd0f6c",
   "metadata": {},
   "outputs": [
    {
     "data": {
      "text/plain": [
       "(10, 20, 30)"
      ]
     },
     "execution_count": 25,
     "metadata": {},
     "output_type": "execute_result"
    }
   ],
   "source": [
    "t[-3],t[-2],t[-1]"
   ]
  },
  {
   "cell_type": "code",
   "execution_count": 26,
   "id": "c3ebf49b",
   "metadata": {},
   "outputs": [
    {
     "data": {
      "text/plain": [
       "3"
      ]
     },
     "execution_count": 26,
     "metadata": {},
     "output_type": "execute_result"
    }
   ],
   "source": [
    "len(t) #Menghitung banyaknya elemen didalam Tuple"
   ]
  },
  {
   "cell_type": "code",
   "execution_count": null,
   "id": "1596bfef",
   "metadata": {},
   "outputs": [],
   "source": [
    "3.4 Tipe Set\n",
    "set (himpunan) adalah tipe koleksi yang setiap elemennya bersifat unik. Dengan demikian, di dalam set tidak akan pernah ada duplikasi nilai elemen. Jika pada saat pembuatan set terdapat beberapa elemen yang nilainya sama, maka elemen-elemen tersebut hanya akan diambil satu, sisanya\n",
    "secara otomatis akan dibuang. Set dibuat menggunakan fungsi set( ) dengan parameter bisa berupa list, dictionary, tuple, maupun string"
   ]
  },
  {
   "cell_type": "code",
   "execution_count": null,
   "id": "44aa0911",
   "metadata": {},
   "outputs": [],
   "source": [
    "Algorithm 3.4"
   ]
  },
  {
   "cell_type": "code",
   "execution_count": 30,
   "id": "052ddcda",
   "metadata": {},
   "outputs": [
    {
     "data": {
      "text/plain": [
       "{10, 20, 30}"
      ]
     },
     "execution_count": 30,
     "metadata": {},
     "output_type": "execute_result"
    }
   ],
   "source": [
    "s=set([10,10,20,30,30,30])\n",
    "s"
   ]
  },
  {
   "cell_type": "code",
   "execution_count": 28,
   "id": "76a26769",
   "metadata": {},
   "outputs": [
    {
     "data": {
      "text/plain": [
       "3"
      ]
     },
     "execution_count": 28,
     "metadata": {},
     "output_type": "execute_result"
    }
   ],
   "source": [
    "len(s)"
   ]
  },
  {
   "cell_type": "code",
   "execution_count": 31,
   "id": "55f7c2f3",
   "metadata": {},
   "outputs": [
    {
     "data": {
      "text/plain": [
       "{10, 20, 30, 60}"
      ]
     },
     "execution_count": 31,
     "metadata": {},
     "output_type": "execute_result"
    }
   ],
   "source": [
    "s.add(60) #Menambahkan anggota himpunan (set)\n",
    "s"
   ]
  },
  {
   "cell_type": "code",
   "execution_count": 32,
   "id": "8fda0586",
   "metadata": {},
   "outputs": [
    {
     "data": {
      "text/plain": [
       "4"
      ]
     },
     "execution_count": 32,
     "metadata": {},
     "output_type": "execute_result"
    }
   ],
   "source": [
    "len(s)"
   ]
  },
  {
   "cell_type": "code",
   "execution_count": null,
   "id": "c39cbc9d",
   "metadata": {},
   "outputs": [],
   "source": []
  }
 ],
 "metadata": {
  "kernelspec": {
   "display_name": "Python 3 (ipykernel)",
   "language": "python",
   "name": "python3"
  },
  "language_info": {
   "codemirror_mode": {
    "name": "ipython",
    "version": 3
   },
   "file_extension": ".py",
   "mimetype": "text/x-python",
   "name": "python",
   "nbconvert_exporter": "python",
   "pygments_lexer": "ipython3",
   "version": "3.9.7"
  }
 },
 "nbformat": 4,
 "nbformat_minor": 5
}
