{
 "cells": [
  {
   "cell_type": "markdown",
   "id": "f79a83fb",
   "metadata": {},
   "source": [
    "## Alif Fitri Auni Miftakhul Jannah\n",
    "## 200601110097"
   ]
  },
  {
   "cell_type": "code",
   "execution_count": 1,
   "id": "2f653c3e",
   "metadata": {},
   "outputs": [],
   "source": [
    "from sympy import *\n",
    "x, t, z, nu = symbols('x t z nu')"
   ]
  },
  {
   "cell_type": "markdown",
   "id": "0710309d",
   "metadata": {},
   "source": [
    "## No 1"
   ]
  },
  {
   "cell_type": "code",
   "execution_count": null,
   "id": "4ad30647",
   "metadata": {},
   "outputs": [],
   "source": [
    "jika diketahui a=(6+x)**2 dan b=x**2+4*x+1 maka (a+b) adalah"
   ]
  },
  {
   "cell_type": "code",
   "execution_count": 2,
   "id": "ee547d5d",
   "metadata": {},
   "outputs": [
    {
     "data": {
      "text/latex": [
       "$\\displaystyle 2 x^{2} + 16 x + 37$"
      ],
      "text/plain": [
       "2*x**2 + 16*x + 37"
      ]
     },
     "execution_count": 2,
     "metadata": {},
     "output_type": "execute_result"
    }
   ],
   "source": [
    "a = (6 + x)**2\n",
    "b = x**2 + 4*x + 1\n",
    "simplify(a + b)"
   ]
  },
  {
   "cell_type": "markdown",
   "id": "612085d5",
   "metadata": {},
   "source": [
    "## No 2"
   ]
  },
  {
   "cell_type": "code",
   "execution_count": null,
   "id": "0848b661",
   "metadata": {},
   "outputs": [],
   "source": [
    "Hasil Integral dari cos(x) + cos(x) adalah"
   ]
  },
  {
   "cell_type": "code",
   "execution_count": 3,
   "id": "3a9906b6",
   "metadata": {},
   "outputs": [
    {
     "data": {
      "text/latex": [
       "$\\displaystyle e^{x} \\sin{\\left(x \\right)} + e^{x} \\cos{\\left(x \\right)}$"
      ],
      "text/plain": [
       "exp(x)*sin(x) + exp(x)*cos(x)"
      ]
     },
     "execution_count": 3,
     "metadata": {},
     "output_type": "execute_result"
    }
   ],
   "source": [
    "integrate(exp(x)*cos(x) + exp(x)*cos(x), x)"
   ]
  },
  {
   "cell_type": "markdown",
   "id": "fed5acb8",
   "metadata": {},
   "source": [
    "## No 3"
   ]
  },
  {
   "cell_type": "code",
   "execution_count": null,
   "id": "a40dcb2e",
   "metadata": {},
   "outputs": [],
   "source": [
    "Hasil Turunan dari sin(x)-tan(x) adalah "
   ]
  },
  {
   "cell_type": "code",
   "execution_count": 4,
   "id": "7e950ae0",
   "metadata": {},
   "outputs": [
    {
     "data": {
      "text/latex": [
       "$\\displaystyle - \\left(\\tan^{2}{\\left(x \\right)} + 1\\right) e^{x} + e^{x} \\sin{\\left(x \\right)} + e^{x} \\cos{\\left(x \\right)} - e^{x} \\tan{\\left(x \\right)}$"
      ],
      "text/plain": [
       "-(tan(x)**2 + 1)*exp(x) + exp(x)*sin(x) + exp(x)*cos(x) - exp(x)*tan(x)"
      ]
     },
     "execution_count": 4,
     "metadata": {},
     "output_type": "execute_result"
    }
   ],
   "source": [
    "diff(sin(x)*exp(x) - tan(x)*exp(x), x)"
   ]
  },
  {
   "cell_type": "markdown",
   "id": "afddf835",
   "metadata": {},
   "source": [
    "## No 4"
   ]
  },
  {
   "cell_type": "code",
   "execution_count": null,
   "id": "274e190e",
   "metadata": {},
   "outputs": [],
   "source": [
    "Tentukan nilai eigen dari [[2, 4], [8, 4]] "
   ]
  },
  {
   "cell_type": "code",
   "execution_count": 5,
   "id": "bdfa6891",
   "metadata": {},
   "outputs": [
    {
     "data": {
      "text/plain": [
       "{3 - sqrt(33): 1, 3 + sqrt(33): 1}"
      ]
     },
     "execution_count": 5,
     "metadata": {},
     "output_type": "execute_result"
    }
   ],
   "source": [
    "Matrix([[2, 4], [8, 4]]).eigenvals()"
   ]
  },
  {
   "cell_type": "markdown",
   "id": "63704af6",
   "metadata": {},
   "source": [
    "## No 5"
   ]
  },
  {
   "cell_type": "code",
   "execution_count": null,
   "id": "e40382bf",
   "metadata": {},
   "outputs": [],
   "source": [
    "Bentuk penyelesaian dari x**2-4 adalah"
   ]
  },
  {
   "cell_type": "code",
   "execution_count": 6,
   "id": "f482a32f",
   "metadata": {},
   "outputs": [
    {
     "data": {
      "text/plain": [
       "[-2, 2]"
      ]
     },
     "execution_count": 6,
     "metadata": {},
     "output_type": "execute_result"
    }
   ],
   "source": [
    "solve(x**2 - 4, x)"
   ]
  },
  {
   "cell_type": "code",
   "execution_count": null,
   "id": "7406eb1a",
   "metadata": {},
   "outputs": [],
   "source": []
  }
 ],
 "metadata": {
  "kernelspec": {
   "display_name": "Python 3 (ipykernel)",
   "language": "python",
   "name": "python3"
  },
  "language_info": {
   "codemirror_mode": {
    "name": "ipython",
    "version": 3
   },
   "file_extension": ".py",
   "mimetype": "text/x-python",
   "name": "python",
   "nbconvert_exporter": "python",
   "pygments_lexer": "ipython3",
   "version": "3.9.7"
  }
 },
 "nbformat": 4,
 "nbformat_minor": 5
}
