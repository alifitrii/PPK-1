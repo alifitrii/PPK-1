{
 "cells": [
  {
   "cell_type": "markdown",
   "id": "74d5d763",
   "metadata": {},
   "source": [
    "## Alif Fitri Auni Miftakhul Jannah\n",
    "## 200601110097"
   ]
  },
  {
   "cell_type": "markdown",
   "id": "ad67a45b",
   "metadata": {},
   "source": [
    "## No. 1"
   ]
  },
  {
   "cell_type": "code",
   "execution_count": null,
   "id": "49dbd80c",
   "metadata": {},
   "outputs": [],
   "source": [
    "Buatlah program yang meminta masukan user sebuah bilangan bulat N dimana (N > 0). \n",
    "Program kemudian menampilkan penjumlahan N bilangan genap positif pertama (bilangan genap ≥ 0). Contoh:\n",
    "• Jika user memasukkan N = 3, maka outputnya: 0 + 2 + 4 = 6\n",
    "• Jika user memasukkan N = 5, maka outputnya: 0 + 2 + 4 + 6 + 8 = 20"
   ]
  },
  {
   "cell_type": "code",
   "execution_count": 1,
   "id": "c0ff5409",
   "metadata": {},
   "outputs": [
    {
     "name": "stdout",
     "output_type": "stream",
     "text": [
      "Menghitung Jumlah N Bilangan Genap Positif Pertama\n",
      "Masukkan Nilai N :3\n",
      "Masukkan Nilai N : 3\n",
      "Bilangan Genap Positif Ke - 1  : 0\n",
      "Bilangan Genap Positif Ke - 2  : 2\n",
      "Bilangan Genap Positif Ke - 3  : 4\n",
      "\n",
      "Jumlah bilangan genap positif dari 3 bilangan diatas adalah 6\n",
      "\n",
      "ingin mencoba lagi ? (yes/no)\n",
      "yes\n",
      "Masukkan Nilai N :5\n",
      "Masukkan Nilai N : 5\n",
      "Bilangan Genap Positif Ke - 1  : 0\n",
      "Bilangan Genap Positif Ke - 2  : 2\n",
      "Bilangan Genap Positif Ke - 3  : 4\n",
      "Bilangan Genap Positif Ke - 4  : 6\n",
      "Bilangan Genap Positif Ke - 5  : 8\n",
      "\n",
      "Jumlah bilangan genap positif dari 5 bilangan diatas adalah 20\n",
      "\n",
      "ingin mencoba lagi ? (yes/no)\n",
      "no\n",
      "Terima Kasih Telah Mencoba, Sampai Jumpa :)\n"
     ]
    }
   ],
   "source": [
    "print('Menghitung Jumlah N Bilangan Genap Positif Pertama')\n",
    "\n",
    "def pengulangan():\n",
    "    N = int(input('Masukkan Nilai N :'))\n",
    "    print('Masukkan Nilai N :',N)\n",
    "    count = 0\n",
    "    sum = 0\n",
    "    for i in range (0,N*2,2):\n",
    "        if i % 2 == 0:\n",
    "            count = count + 1\n",
    "            sum = sum + i\n",
    "            print('Bilangan Genap Positif Ke -',count, ' :',i)\n",
    "    print()       \n",
    "    print('Jumlah bilangan genap positif dari',N,'bilangan diatas adalah',sum)\n",
    "    \n",
    "    print ('')\n",
    "    print ('ingin mencoba lagi ? (yes/no)')\n",
    "    x=input()\n",
    "    if x=='yes':\n",
    "        return pengulangan()\n",
    "    if x=='no':\n",
    "        print('Terima Kasih Telah Mencoba, Sampai Jumpa :)')\n",
    "        \n",
    "pengulangan()"
   ]
  },
  {
   "cell_type": "markdown",
   "id": "28667025",
   "metadata": {},
   "source": [
    "## No. 2"
   ]
  },
  {
   "cell_type": "code",
   "execution_count": null,
   "id": "391f916c",
   "metadata": {},
   "outputs": [],
   "source": [
    "Buatlah sebuah program yang meminta masukan user sebuah bilangan bulat N dimana (N > 0). \n",
    "Kemudian, program menampilkan penjumlahan N bilangan kuadrat pertama. Bilangan kuadrat adalah = 1, 4, 9, 16, 25, 36, ...., N2\n",
    "Contoh:\n",
    "\n",
    "• Jika user memasukkan N = 2, maka outputnya: 1 + 4 = 5\n",
    "• Jika user memasukkan N = 3, maka outputnya: 1 + 4 + 9 = 14"
   ]
  },
  {
   "cell_type": "code",
   "execution_count": 2,
   "id": "7f0533b0",
   "metadata": {},
   "outputs": [
    {
     "name": "stdout",
     "output_type": "stream",
     "text": [
      "Menghitung Jumlah N Bilangan Kuadrat Pertama\n",
      "Masukkan Nilai N :2\n",
      "Masukkan Nilai N : 2\n",
      "Bilangan Kuadrat Ke - 1  : 1\n",
      "Bilangan Kuadrat Ke - 2  : 4\n",
      "\n",
      "Jumlah bilangan Kuadrat dari 2 bilangan diatas adalah 5\n",
      "\n",
      "ingin mencobanya lagi ? (ya/tidak)\n",
      "ya\n",
      "Masukkan Nilai N :3\n",
      "Masukkan Nilai N : 3\n",
      "Bilangan Kuadrat Ke - 1  : 1\n",
      "Bilangan Kuadrat Ke - 2  : 4\n",
      "Bilangan Kuadrat Ke - 3  : 9\n",
      "\n",
      "Jumlah bilangan Kuadrat dari 3 bilangan diatas adalah 14\n",
      "\n",
      "ingin mencobanya lagi ? (ya/tidak)\n",
      "tidak\n",
      "Terima Kasih Telah Mencoba, Good Luck !\n"
     ]
    }
   ],
   "source": [
    "print('Menghitung Jumlah N Bilangan Kuadrat Pertama')\n",
    "\n",
    "def pengulangan():\n",
    "    N = int(input('Masukkan Nilai N :'))\n",
    "    print('Masukkan Nilai N :',N)\n",
    "    count = 0\n",
    "    sum = 0\n",
    "    for i in range(1,N+1):\n",
    "        if i > 0:\n",
    "            count = count + 1\n",
    "            sum = sum + i*i\n",
    "            print('Bilangan Kuadrat Ke -',count, ' :',i*i)\n",
    "    print()       \n",
    "    print('Jumlah bilangan Kuadrat dari',N,'bilangan diatas adalah',sum)\n",
    "    \n",
    "    print ('')\n",
    "    print ('ingin mencobanya lagi ? (ya/tidak)')\n",
    "    x=input()\n",
    "    if x=='ya':\n",
    "        return pengulangan()\n",
    "    if x=='tidak':\n",
    "        print('Terima Kasih Telah Mencoba, Good Luck :)')\n",
    "        \n",
    "pengulangan()"
   ]
  },
  {
   "cell_type": "markdown",
   "id": "27cffd0f",
   "metadata": {},
   "source": [
    "## No.3"
   ]
  },
  {
   "cell_type": "code",
   "execution_count": null,
   "id": "7be549d2",
   "metadata": {},
   "outputs": [],
   "source": [
    "Buatlah sebuah program yang meminta masukan user sebuah bilangan bulat N dimana (N > 0). \n",
    "Program kemudian memeriksa setiap digit yang ada di angka tersebut, \n",
    "dan menampilkan berapa jumlah digit yang ganjil dari bilangan N tersebut.\n",
    "• Jika user memasukkan N = 2345, jumlah digit yang ganjil = 2\n",
    "• Jika user memasukkan N = 993312, jumlah digit yang ganjil = 5"
   ]
  },
  {
   "cell_type": "code",
   "execution_count": 5,
   "id": "310edc73",
   "metadata": {},
   "outputs": [
    {
     "name": "stdout",
     "output_type": "stream",
     "text": [
      "Menampilkan Berapa Jumlah Digit yang Ganjil dari Bilangan N\n",
      "Masukkan Nilai N :2345\n",
      "Masukkan Nilai N : 2345\n",
      "\n",
      "Jumlah digit yang ganjil dari 2345 adalah 2\n",
      "\n",
      "Apakah anda ingin mencobanya lagi ? (yes/no)\n",
      "yes\n",
      "Masukkan Nilai N :993312\n",
      "Masukkan Nilai N : 993312\n",
      "\n",
      "Jumlah digit yang ganjil dari 993312 adalah 5\n",
      "\n",
      "Apakah anda ingin mencobanya lagi ? (yes/no)\n",
      "no\n",
      "Thank You, See You :)\n"
     ]
    }
   ],
   "source": [
    "print('Menampilkan Berapa Jumlah Digit yang Ganjil dari Bilangan N')\n",
    "\n",
    "def pengulangan():\n",
    "    N = (input('Masukkan Nilai N :'))\n",
    "    print('Masukkan Nilai N :',N)\n",
    "    count = 0\n",
    "    Ganjil = ''\n",
    "    for i in N:\n",
    "        if i in '13579':\n",
    "            count += 1\n",
    "            Ganjil = Ganjil+i+''\n",
    "    print()\n",
    "    print('Jumlah digit yang ganjil dari',N,'adalah ' + str(count))\n",
    "    \n",
    "    print ('')\n",
    "    print ('Apakah anda ingin mencobanya lagi ? (yes/no)')\n",
    "    x=input()\n",
    "    if x=='yes':\n",
    "        return pengulangan()\n",
    "    if x=='no':\n",
    "        print('Thank You, See You :)')\n",
    "        \n",
    "pengulangan()"
   ]
  },
  {
   "cell_type": "markdown",
   "id": "371e82c4",
   "metadata": {},
   "source": [
    "## No.4"
   ]
  },
  {
   "cell_type": "code",
   "execution_count": null,
   "id": "7c0158c9",
   "metadata": {},
   "outputs": [],
   "source": [
    "Cari cara bagaimana menampilkan judul (title) dari grafik!"
   ]
  },
  {
   "cell_type": "code",
   "execution_count": 1,
   "id": "69a1a827",
   "metadata": {},
   "outputs": [
    {
     "data": {
      "image/png": "[encoded data removed]",
      "text/plain": [
       "<Figure size 432x288 with 1 Axes>"
      ]
     },
     "metadata": {
      "needs_background": "light"
     },
     "output_type": "display_data"
    }
   ],
   "source": [
    "import numpy as np\n",
    "import matplotlib.pyplot as plt\n",
    "\n",
    "t = np.arange(0.0, 3.0, 0.01)\n",
    "s = np.sin(2.5 * np.pi * t)\n",
    "plt.plot(t, s)\n",
    "\n",
    "plt.xlabel('time (s)')\n",
    "plt.ylabel('voltage (V)')\n",
    "\n",
    "plt.title('Gelombang Sinus')\n",
    "plt.grid(True)\n",
    "\n",
    "plt.show()"
   ]
  },
  {
   "cell_type": "markdown",
   "id": "dbb14e6a",
   "metadata": {},
   "source": [
    "## No. 5"
   ]
  },
  {
   "cell_type": "code",
   "execution_count": null,
   "id": "cca3bd07",
   "metadata": {},
   "outputs": [],
   "source": [
    "Cari bagaimana cara memberikan label pada sumbu x dan sumbu y!"
   ]
  },
  {
   "cell_type": "code",
   "execution_count": 3,
   "id": "915a92aa",
   "metadata": {},
   "outputs": [
    {
     "data": {
      "image/png": "[encoded data removed]",
      "text/plain": [
       "<Figure size 432x288 with 1 Axes>"
      ]
     },
     "metadata": {
      "needs_background": "light"
     },
     "output_type": "display_data"
    }
   ],
   "source": [
    "import matplotlib.pyplot as plt\n",
    "import numpy as np\n",
    "\n",
    "plt.plot([1,2,3,4],[1,4,9,16])\n",
    "plt.title(\"First Plot\")\n",
    "plt.xlabel(\"X label\")\n",
    "plt.ylabel(\"Y label\")\n",
    "plt.show()"
   ]
  },
  {
   "cell_type": "markdown",
   "id": "a071bc12",
   "metadata": {},
   "source": [
    "## No. 6"
   ]
  },
  {
   "cell_type": "code",
   "execution_count": null,
   "id": "5609941f",
   "metadata": {},
   "outputs": [],
   "source": [
    "Cari bagaimana cara menambahkan teks dalam grafik!"
   ]
  },
  {
   "cell_type": "code",
   "execution_count": 2,
   "id": "99175989",
   "metadata": {},
   "outputs": [
    {
     "data": {
      "image/png": "[encoded data removed]",
      "text/plain": [
       "<Figure size 432x288 with 1 Axes>"
      ]
     },
     "metadata": {
      "needs_background": "light"
     },
     "output_type": "display_data"
    },
    {
     "data": {
      "text/plain": [
       "<Figure size 432x288 with 0 Axes>"
      ]
     },
     "metadata": {},
     "output_type": "display_data"
    }
   ],
   "source": [
    "import matplotlib.pyplot as plt\n",
    "fig = plt.figure()\n",
    "ax = fig.add_axes([0,0,1,1])\n",
    "\n",
    "MataKuliah = ['Aljabar', 'Kalkulus', 'Analisis Riil', 'Sistem Dinamik']\n",
    "Nilai = [90,80,95,90]\n",
    "\n",
    "ax.bar(MataKuliah,Nilai)\n",
    "ax.set_xlabel('MataKuliah')\n",
    "ax.set_ylabel('Nilai')\n",
    "ax.set_title('Nilai Semester')\n",
    "\n",
    "plt.show()\n",
    "plt.savefig('foo.png')"
   ]
  },
  {
   "cell_type": "code",
   "execution_count": null,
   "id": "cd330a98",
   "metadata": {},
   "outputs": [],
   "source": []
  }
 ],
 "metadata": {
  "kernelspec": {
   "display_name": "Python 3 (ipykernel)",
   "language": "python",
   "name": "python3"
  },
  "language_info": {
   "codemirror_mode": {
    "name": "ipython",
    "version": 3
   },
   "file_extension": ".py",
   "mimetype": "text/x-python",
   "name": "python",
   "nbconvert_exporter": "python",
   "pygments_lexer": "ipython3",
   "version": "3.9.7"
  }
 },
 "nbformat": 4,
 "nbformat_minor": 5
}
